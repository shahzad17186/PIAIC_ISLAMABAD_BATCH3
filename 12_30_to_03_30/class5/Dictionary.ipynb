{
 "cells": [
  {
   "cell_type": "code",
   "execution_count": 2,
   "metadata": {},
   "outputs": [
    {
     "data": {
      "text/plain": [
       "[2, 'Qasim', 'A.I']"
      ]
     },
     "execution_count": 2,
     "metadata": {},
     "output_type": "execute_result"
    }
   ],
   "source": [
    "#     0   1       2\n",
    "l1 = [2,\"Qasim\",\"A.I\"]\n",
    "#     -3  -2      -1\n",
    "\n",
    "#list[element1, element2, element3,...]\n",
    "#list[index]\n",
    "l1"
   ]
  },
  {
   "cell_type": "markdown",
   "metadata": {},
   "source": [
    "# Dictionary"
   ]
  },
  {
   "cell_type": "raw",
   "metadata": {},
   "source": [
    "# item = key:value\n",
    "\n",
    "#{key1: value1,\n",
    "# key2: value2,\n",
    "# key3: value3,..}"
   ]
  },
  {
   "cell_type": "code",
   "execution_count": 3,
   "metadata": {},
   "outputs": [
    {
     "data": {
      "text/plain": [
       "{'id': 2, 'name': 'Qasim', 'Course': 'A.I'}"
      ]
     },
     "execution_count": 3,
     "metadata": {},
     "output_type": "execute_result"
    }
   ],
   "source": [
    "d1 = {\"id\":2,\n",
    "     \"name\":\"Qasim\",\n",
    "     \"Course\": \"A.I\"}\n",
    "d1"
   ]
  },
  {
   "cell_type": "code",
   "execution_count": 7,
   "metadata": {},
   "outputs": [
    {
     "data": {
      "text/plain": [
       "{'id': 25, 'name': 'Qasim', 'Course': 'A.I'}"
      ]
     },
     "execution_count": 7,
     "metadata": {},
     "output_type": "execute_result"
    }
   ],
   "source": [
    "d1 = {\"id\":2,\n",
    "     \"name\":\"Qasim\",\n",
    "      \"id\":25,\n",
    "     \"Course\": \"A.I\"}\n",
    "d1"
   ]
  },
  {
   "cell_type": "code",
   "execution_count": 4,
   "metadata": {},
   "outputs": [
    {
     "data": {
      "text/plain": [
       "{'id': 10, 'name': 'Ali', 'course': 'IOT'}"
      ]
     },
     "execution_count": 4,
     "metadata": {},
     "output_type": "execute_result"
    }
   ],
   "source": [
    "d1 = {} #empty dictionary\n",
    "d1[\"id\"] = 10\n",
    "d1['name']='Ali'\n",
    "d1['course']=\"IOT\"\n",
    "\n",
    "d1"
   ]
  },
  {
   "cell_type": "code",
   "execution_count": 11,
   "metadata": {},
   "outputs": [
    {
     "name": "stdout",
     "output_type": "stream",
     "text": [
      "{'id': 10, 'name': 'Ali', 'course': 'IOT'}\n",
      "{}\n"
     ]
    }
   ],
   "source": [
    "d1 = {'id': 10, 'name': 'Ali', 'course': 'IOT'}\n",
    "print(d1)\n",
    "d1.clear()\n",
    "print(d1)"
   ]
  },
  {
   "cell_type": "code",
   "execution_count": 12,
   "metadata": {},
   "outputs": [
    {
     "name": "stdout",
     "output_type": "stream",
     "text": [
      "{'id': 10, 'name': 'Ali', 'course': 'IOT'}\n"
     ]
    },
    {
     "ename": "NameError",
     "evalue": "name 'd1' is not defined",
     "output_type": "error",
     "traceback": [
      "\u001b[0;31m---------------------------------------------------------------------------\u001b[0m",
      "\u001b[0;31mNameError\u001b[0m                                 Traceback (most recent call last)",
      "\u001b[0;32m<ipython-input-12-0932eaa2f4b3>\u001b[0m in \u001b[0;36m<module>\u001b[0;34m\u001b[0m\n\u001b[1;32m      2\u001b[0m \u001b[0mprint\u001b[0m\u001b[0;34m(\u001b[0m\u001b[0md1\u001b[0m\u001b[0;34m)\u001b[0m\u001b[0;34m\u001b[0m\u001b[0;34m\u001b[0m\u001b[0m\n\u001b[1;32m      3\u001b[0m \u001b[0;32mdel\u001b[0m \u001b[0md1\u001b[0m\u001b[0;34m\u001b[0m\u001b[0;34m\u001b[0m\u001b[0m\n\u001b[0;32m----> 4\u001b[0;31m \u001b[0mprint\u001b[0m\u001b[0;34m(\u001b[0m\u001b[0md1\u001b[0m\u001b[0;34m)\u001b[0m\u001b[0;34m\u001b[0m\u001b[0;34m\u001b[0m\u001b[0m\n\u001b[0m",
      "\u001b[0;31mNameError\u001b[0m: name 'd1' is not defined"
     ]
    }
   ],
   "source": [
    "d1 = {'id': 10, 'name': 'Ali', 'course': 'IOT'}\n",
    "print(d1)\n",
    "del d1\n",
    "print(d1)"
   ]
  },
  {
   "cell_type": "code",
   "execution_count": 16,
   "metadata": {},
   "outputs": [
    {
     "name": "stdout",
     "output_type": "stream",
     "text": [
      "{'id': 10, 'name': 'Ali', 'course': 'IOT'}\n",
      "{'id': 10, 'name': 'Hamaza', 'course': 'IOT'}\n",
      "{'id': 10, 'name': 'Ali', 'course': 'IOT'}\n"
     ]
    }
   ],
   "source": [
    "d1 = {'id': 10, 'name': 'Ali', 'course': 'IOT'}\n",
    "d2 = d1.copy()\n",
    "print(d1)\n",
    "\n",
    "d1['name'] = \"Hamaza\"\n",
    "print(d1)\n",
    "\n",
    "print(d2)"
   ]
  },
  {
   "cell_type": "code",
   "execution_count": 17,
   "metadata": {},
   "outputs": [
    {
     "data": {
      "text/plain": [
       "{'name': None, 'id': None, 'contact': None, 'DOB': None, 'CNIC': None}"
      ]
     },
     "execution_count": 17,
     "metadata": {},
     "output_type": "execute_result"
    }
   ],
   "source": [
    "l1 = ['name','id','contact','DOB','CNIC']\n",
    "\n",
    "dict.fromkeys(l1)"
   ]
  },
  {
   "cell_type": "code",
   "execution_count": 21,
   "metadata": {},
   "outputs": [
    {
     "name": "stdout",
     "output_type": "stream",
     "text": [
      "Enter keysa,b,c,d,e\n"
     ]
    },
    {
     "data": {
      "text/plain": [
       "{'a': None, 'b': None, 'c': None, 'd': None, 'e': None}"
      ]
     },
     "execution_count": 21,
     "metadata": {},
     "output_type": "execute_result"
    }
   ],
   "source": [
    "l1 = input(\"Enter keys\")\n",
    "l1 = l1.split(\",\")\n",
    "\n",
    "d1 = {}\n",
    "for key in l1:\n",
    "    d1[key] = None\n",
    "\n",
    "d1"
   ]
  },
  {
   "cell_type": "code",
   "execution_count": 22,
   "metadata": {},
   "outputs": [
    {
     "name": "stdout",
     "output_type": "stream",
     "text": [
      "Enter kesya,b,c,d,e,f,g\n"
     ]
    },
    {
     "data": {
      "text/plain": [
       "{'a': None, 'b': None, 'c': None, 'd': None, 'e': None, 'f': None, 'g': None}"
      ]
     },
     "execution_count": 22,
     "metadata": {},
     "output_type": "execute_result"
    }
   ],
   "source": [
    "l1 = input(\"Enter kesy\").split(\",\")\n",
    "dict.fromkeys(l1)"
   ]
  },
  {
   "cell_type": "code",
   "execution_count": 26,
   "metadata": {},
   "outputs": [
    {
     "name": "stdout",
     "output_type": "stream",
     "text": [
      "Keys: a,b,c\n",
      "Values: x,y,z\n",
      "{'a': 'x', 'b': 'y', 'c': 'z'}\n"
     ]
    }
   ],
   "source": [
    "l1 = input(\"Keys: \").split(\",\")\n",
    "l2 = input(\"Values: \").split(\",\")\n",
    "\n",
    "d1 = {}\n",
    "\n",
    "for i in range(len(l1)):\n",
    "    d1[l1[i]] = l2[i]\n",
    "    \n",
    "print(d1)    "
   ]
  },
  {
   "cell_type": "code",
   "execution_count": 31,
   "metadata": {},
   "outputs": [
    {
     "name": "stdout",
     "output_type": "stream",
     "text": [
      "Keys: a,b,c\n",
      "Values: x,y,z\n"
     ]
    },
    {
     "data": {
      "text/plain": [
       "{'a': 'x', 'b': 'y', 'c': 'z'}"
      ]
     },
     "execution_count": 31,
     "metadata": {},
     "output_type": "execute_result"
    }
   ],
   "source": [
    "l1 = input(\"Keys: \").split(\",\")\n",
    "l2 = input(\"Values: \").split(\",\")\n",
    "d1 = {}\n",
    "for k, v in zip(l1,l2):\n",
    "    d1[k] = v\n",
    "    \n",
    "d1"
   ]
  },
  {
   "cell_type": "code",
   "execution_count": 28,
   "metadata": {},
   "outputs": [
    {
     "name": "stdout",
     "output_type": "stream",
     "text": [
      "Keys: a,b,c\n",
      "Values: x,y,z\n",
      "{'a': 'x', 'b': 'y', 'c': 'z'}\n"
     ]
    }
   ],
   "source": [
    "l1 = input(\"Keys: \").split(\",\")\n",
    "l2 = input(\"Values: \").split(\",\")\n",
    "\n",
    "d1 = {}\n",
    "\n",
    "i = 0\n",
    "while i < (len(l1)):\n",
    "    d1[l1[i]] = l2[i]\n",
    "    i +=1\n",
    "    \n",
    "print(d1)"
   ]
  },
  {
   "cell_type": "code",
   "execution_count": 29,
   "metadata": {},
   "outputs": [
    {
     "name": "stdout",
     "output_type": "stream",
     "text": [
      "Keys: a,b,c\n",
      "Values: x,y,z\n"
     ]
    },
    {
     "data": {
      "text/plain": [
       "{'a': 'x', 'b': 'y', 'c': 'z'}"
      ]
     },
     "execution_count": 29,
     "metadata": {},
     "output_type": "execute_result"
    }
   ],
   "source": [
    "l1 = input(\"Keys: \").split(\",\")\n",
    "l2 = input(\"Values: \").split(\",\")\n",
    "\n",
    "{l1[i]:l2[i] for i in range(len(l1))}"
   ]
  },
  {
   "cell_type": "code",
   "execution_count": 30,
   "metadata": {},
   "outputs": [
    {
     "name": "stdout",
     "output_type": "stream",
     "text": [
      "Keys: a,b,c\n",
      "Values: x,y,z\n"
     ]
    },
    {
     "data": {
      "text/plain": [
       "[('a', 'x'), ('b', 'y'), ('c', 'z')]"
      ]
     },
     "execution_count": 30,
     "metadata": {},
     "output_type": "execute_result"
    }
   ],
   "source": [
    "l1 = input(\"Keys: \").split(\",\")\n",
    "l2 = input(\"Values: \").split(\",\")\n",
    "\n",
    "list(zip(l1,l2))"
   ]
  },
  {
   "cell_type": "code",
   "execution_count": 32,
   "metadata": {},
   "outputs": [
    {
     "name": "stdout",
     "output_type": "stream",
     "text": [
      "Keys: a,b,c\n",
      "Values: x,y,z\n"
     ]
    },
    {
     "data": {
      "text/plain": [
       "{'a': 'x', 'b': 'y', 'c': 'z'}"
      ]
     },
     "execution_count": 32,
     "metadata": {},
     "output_type": "execute_result"
    }
   ],
   "source": [
    "l1 = input(\"Keys: \").split(\",\")\n",
    "l2 = input(\"Values: \").split(\",\")\n",
    "\n",
    "dict(zip(l1,l2))"
   ]
  },
  {
   "cell_type": "code",
   "execution_count": 34,
   "metadata": {},
   "outputs": [
    {
     "ename": "SyntaxError",
     "evalue": "invalid syntax (<ipython-input-34-bdcd395bb2b6>, line 3)",
     "output_type": "error",
     "traceback": [
      "\u001b[0;36m  File \u001b[0;32m\"<ipython-input-34-bdcd395bb2b6>\"\u001b[0;36m, line \u001b[0;32m3\u001b[0m\n\u001b[0;31m    name: 'ABC'\u001b[0m\n\u001b[0m       ^\u001b[0m\n\u001b[0;31mSyntaxError\u001b[0m\u001b[0;31m:\u001b[0m invalid syntax\n"
     ]
    }
   ],
   "source": [
    "{\n",
    "    id:20\n",
    "    name: 'ABC'\n",
    "    skills : [python,c,C++,..]\n",
    "}"
   ]
  },
  {
   "cell_type": "code",
   "execution_count": 36,
   "metadata": {},
   "outputs": [
    {
     "name": "stdout",
     "output_type": "stream",
     "text": [
      "Please Enter Id1\n",
      "Please Enter NameABc\n",
      "Please Enter Skillsa,b,c\n"
     ]
    },
    {
     "data": {
      "text/plain": [
       "{'id': '1', 'name': 'ABc', 'skills': ['a', 'b', 'c']}"
      ]
     },
     "execution_count": 36,
     "metadata": {},
     "output_type": "execute_result"
    }
   ],
   "source": [
    "dict1 ={}\n",
    "dict1[\"id\"] = input(\"Please Enter Id\")\n",
    "dict1[\"name\"] = input(\"Please Enter Name\")\n",
    "dict1[\"skills\"] = input(\"Please Enter Skills\").split(\",\")\n",
    "dict1"
   ]
  },
  {
   "cell_type": "code",
   "execution_count": 46,
   "metadata": {},
   "outputs": [
    {
     "data": {
      "text/plain": [
       "[('A', 'z', '0'),\n",
       " ('B', 'y', '1'),\n",
       " ('C', 'x', '2'),\n",
       " ('D', 'w', '3'),\n",
       " ('E', 'v', '4'),\n",
       " ('F', 'u', '5'),\n",
       " ('G', 't', '6'),\n",
       " ('H', 's', '7'),\n",
       " ('I', 'r', '8'),\n",
       " ('J', 'q', '9')]"
      ]
     },
     "execution_count": 46,
     "metadata": {},
     "output_type": "execute_result"
    }
   ],
   "source": [
    "a = [chr(i) for i in range(65,91)]\n",
    "b = [chr(i) for i in range(97,123)]\n",
    "c = [chr(i) for i in range(48,58)]\n",
    "\n",
    "d = zip(a,sorted(b, reverse=True),c)\n",
    "\n",
    "\n",
    "list(d)\n",
    "\n"
   ]
  },
  {
   "cell_type": "code",
   "execution_count": 49,
   "metadata": {},
   "outputs": [
    {
     "data": {
      "text/plain": [
       "[('J', 'q', '9'),\n",
       " ('I', 'r', '6'),\n",
       " ('H', 's', '7'),\n",
       " ('G', 't', '8'),\n",
       " ('F', 'u', '5'),\n",
       " ('E', 'v', '3'),\n",
       " ('D', 'w', '4'),\n",
       " ('C', 'x', '2'),\n",
       " ('B', 'y', '1'),\n",
       " ('A', 'z', '0')]"
      ]
     },
     "execution_count": 49,
     "metadata": {},
     "output_type": "execute_result"
    }
   ],
   "source": [
    "d = [('A', 'z', '0'),\n",
    "     ('B', 'y', '1'),\n",
    "     ('C', 'x', '2'),\n",
    "     ('D', 'w', '4'),\n",
    "     ('E', 'v', '3'),\n",
    "     ('F', 'u', '5'),\n",
    "     ('G', 't', '8'),\n",
    "     ('H', 's', '7'),\n",
    "     ('I', 'r', '6'),\n",
    "     ('J', 'q', '9')]\n",
    "sorted(d, reverse=True)"
   ]
  },
  {
   "cell_type": "code",
   "execution_count": 52,
   "metadata": {},
   "outputs": [
    {
     "data": {
      "text/plain": [
       "[('J', 'q', '9'),\n",
       " ('I', 'r', '6'),\n",
       " ('H', 's', '7'),\n",
       " ('G', 't', '8'),\n",
       " ('F', 'u', '5'),\n",
       " ('E', 'v', '3'),\n",
       " ('D', 'w', '4'),\n",
       " ('C', 'x', '2'),\n",
       " ('B', 'y', '1'),\n",
       " ('A', 'z', '0')]"
      ]
     },
     "execution_count": 52,
     "metadata": {},
     "output_type": "execute_result"
    }
   ],
   "source": [
    "d = [('A', 'z', '0'),\n",
    "     ('B', 'y', '1'),\n",
    "     ('C', 'x', '2'),\n",
    "     ('D', 'w', '4'),\n",
    "     ('E', 'v', '3'),\n",
    "     ('F', 'u', '5'),\n",
    "     ('G', 't', '8'),\n",
    "     ('H', 's', '7'),\n",
    "     ('I', 'r', '6'),\n",
    "     ('J', 'q', '9')]\n",
    "sorted(d, reverse=True, key=lambda x:x[0])"
   ]
  },
  {
   "cell_type": "code",
   "execution_count": 72,
   "metadata": {},
   "outputs": [
    {
     "data": {
      "text/plain": [
       "[('J', 'q', '9'),\n",
       " ('G', 't', '8'),\n",
       " ('H', 's', '7'),\n",
       " ('I', 'r', '6'),\n",
       " ('F', 'u', '5'),\n",
       " ('D', 'w', '4'),\n",
       " ('E', 'v', '3'),\n",
       " ('C', 'x', '2'),\n",
       " ('B', 'y', '1'),\n",
       " ('A', 'z', '0')]"
      ]
     },
     "execution_count": 72,
     "metadata": {},
     "output_type": "execute_result"
    }
   ],
   "source": [
    "d = [('A', 'z', '0'),\n",
    "     ('B', 'y', '1'),\n",
    "     ('C', 'x', '2'),\n",
    "     ('D', 'w', '4'),\n",
    "     ('E', 'v', '3'),\n",
    "     ('F', 'u', '5'),\n",
    "     ('G', 't', '8'),\n",
    "     ('H', 's', '7'),\n",
    "     ('I', 'r', '6'),\n",
    "     ('J', 'q', '9')]\n",
    "\n",
    "\n",
    "def abc(x):\n",
    "    return x[2]   \n",
    "\n",
    "\n",
    "sorted(d, reverse=True,key=abc)\n",
    "#abc(('A', 'z', '0'))    \n",
    "\n"
   ]
  },
  {
   "cell_type": "code",
   "execution_count": 69,
   "metadata": {},
   "outputs": [
    {
     "data": {
      "text/plain": [
       "[('J', 'q', '9'),\n",
       " ('G', 't', '8'),\n",
       " ('H', 's', '7'),\n",
       " ('I', 'r', '6'),\n",
       " ('F', 'u', '5'),\n",
       " ('D', 'w', '4'),\n",
       " ('E', 'v', '3'),\n",
       " ('C', 'x', '2'),\n",
       " ('B', 'y', '1'),\n",
       " ('A', 'z', '0')]"
      ]
     },
     "execution_count": 69,
     "metadata": {},
     "output_type": "execute_result"
    }
   ],
   "source": [
    "d = [('A', 'z', '0'),\n",
    "     ('B', 'y', '1'),\n",
    "     ('C', 'x', '2'),\n",
    "     ('D', 'w', '4'),\n",
    "     ('E', 'v', '3'),\n",
    "     ('F', 'u', '5'),\n",
    "     ('G', 't', '8'),\n",
    "     ('H', 's', '7'),\n",
    "     ('I', 'r', '6'),\n",
    "     ('J', 'q', '9')]\n",
    " \n",
    "\n",
    "sorted(d, reverse=True, key=lambda x:x[2])\n",
    "    \n",
    "\n"
   ]
  },
  {
   "cell_type": "code",
   "execution_count": 74,
   "metadata": {},
   "outputs": [
    {
     "name": "stdout",
     "output_type": "stream",
     "text": [
      "{'a': 1, 'c': 5, 'b': 2, 'd': 3}\n"
     ]
    }
   ],
   "source": [
    "d1={\n",
    "    'a':1,\n",
    "    'c':5,\n",
    "    'b':2,\n",
    "    'd':3\n",
    "}\n",
    "print(d1)"
   ]
  },
  {
   "cell_type": "code",
   "execution_count": 81,
   "metadata": {},
   "outputs": [
    {
     "data": {
      "text/plain": [
       "{'a': 1, 'b': 2, 'c': 5, 'd': 3}"
      ]
     },
     "execution_count": 81,
     "metadata": {},
     "output_type": "execute_result"
    }
   ],
   "source": [
    "# Sorted by Keys\n",
    "d1={\n",
    "    'a':1,\n",
    "    'c':5,\n",
    "    'b':2,\n",
    "    'd':3\n",
    "}\n",
    "\n",
    "d2 = {}\n",
    "for k in sorted(d1.keys()):\n",
    "    d2[k] = d1[k]\n",
    "    \n",
    "d2    "
   ]
  },
  {
   "cell_type": "code",
   "execution_count": 88,
   "metadata": {},
   "outputs": [
    {
     "data": {
      "text/plain": [
       "{'c': 5, 'd': 3, 'b': 2, 'a': 1}"
      ]
     },
     "execution_count": 88,
     "metadata": {},
     "output_type": "execute_result"
    }
   ],
   "source": [
    "d1={\n",
    "    'a':1,\n",
    "    'c':5,\n",
    "    'b':2,\n",
    "    'd':3\n",
    "}\n",
    "\n",
    "{k:v for k,v in sorted(d1.items(), key=lambda x:x[1], reverse=True) }"
   ]
  },
  {
   "cell_type": "raw",
   "metadata": {},
   "source": [
    "[\n",
    "{id:'',name:'',skills=[a,b,c]},\n",
    "{id:'',name:'',skills=[a,b,c]},\n",
    "{id:'',name:'',skills=[a,b,c]}\n",
    "]"
   ]
  },
  {
   "cell_type": "code",
   "execution_count": 91,
   "metadata": {},
   "outputs": [
    {
     "name": "stdout",
     "output_type": "stream",
     "text": [
      "ID1\n",
      "Name1\n",
      "skills1\n",
      "Enter More record Yes | no1\n",
      "ID2\n",
      "Name2\n",
      "skills2\n",
      "Enter More record Yes | no3\n",
      "ID3\n",
      "Name3\n",
      "skills3\n",
      "Enter More record Yes | nono\n"
     ]
    },
    {
     "data": {
      "text/plain": [
       "[{'id': '1', 'name': '1', 'skills': ['1']},\n",
       " {'id': '2', 'name': '2', 'skills': ['2']},\n",
       " {'id': '3', 'name': '3', 'skills': ['3']}]"
      ]
     },
     "execution_count": 91,
     "metadata": {},
     "output_type": "execute_result"
    }
   ],
   "source": [
    "students = []\n",
    "\n",
    "flag = ''\n",
    "\n",
    "while flag!='no':\n",
    "    d1 = {}\n",
    "    d1['id'] = input(\"ID\")\n",
    "    d1['name'] = input(\"Name\")\n",
    "    d1['skills'] = input(\"skills\").split(\",\")\n",
    "    students.append(d1)\n",
    "    \n",
    "    flag = input(\"Enter More record Yes | no\")\n",
    "\n",
    "students"
   ]
  },
  {
   "cell_type": "code",
   "execution_count": 90,
   "metadata": {},
   "outputs": [
    {
     "data": {
      "text/plain": [
       "[]"
      ]
     },
     "execution_count": 90,
     "metadata": {},
     "output_type": "execute_result"
    }
   ],
   "source": [
    "students"
   ]
  },
  {
   "cell_type": "raw",
   "metadata": {},
   "source": [
    "{\n",
    "    a:1\n",
    "    c:5\n",
    "    b:2\n",
    "    d:3\n",
    "}\n",
    "\n",
    "sorting dictionary base on keys\n",
    "{\n",
    "    a:1\n",
    "    b:2\n",
    "    c:5    \n",
    "    d:3\n",
    "}\n",
    "sorting dictionary base on values\n",
    "{\n",
    "    a:1\n",
    "    b:2\n",
    "    d:3\n",
    "    c:5    \n",
    "    \n",
    "}"
   ]
  }
 ],
 "metadata": {
  "kernelspec": {
   "display_name": "Python 3",
   "language": "python",
   "name": "python3"
  },
  "language_info": {
   "codemirror_mode": {
    "name": "ipython",
    "version": 3
   },
   "file_extension": ".py",
   "mimetype": "text/x-python",
   "name": "python",
   "nbconvert_exporter": "python",
   "pygments_lexer": "ipython3",
   "version": "3.7.1"
  }
 },
 "nbformat": 4,
 "nbformat_minor": 2
}
