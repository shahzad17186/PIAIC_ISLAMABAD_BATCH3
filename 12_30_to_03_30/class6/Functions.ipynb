{
 "cells": [
  {
   "cell_type": "markdown",
   "metadata": {},
   "source": [
    "## Functions\n",
    "* Pre define functions\n",
    "* User Define Functions\n",
    "* Recursive Functions\n",
    "* Lambda Functions\n",
    "\n",
    "\n",
    "- Required Arguments\n",
    "- Optional Arguments\n",
    "- Return\n",
    "- Non Return\n",
    "- Defualt Arguments\n",
    "- postional Arguments\n",
    "- KeyWord Arguments\n",
    "- Argument with List\n",
    "- Argument with Dictionary\n",
    "- pre defineFunctions\n",
    "- User defineFunctions"
   ]
  },
  {
   "cell_type": "markdown",
   "metadata": {},
   "source": [
    "# Pre define functions"
   ]
  },
  {
   "cell_type": "code",
   "execution_count": 2,
   "metadata": {},
   "outputs": [
    {
     "name": "stdout",
     "output_type": "stream",
     "text": [
      "Pre define function\n",
      "<class 'str'>\n",
      "140511227845240\n",
      "['a', 'b', 'd']\n",
      "9\n"
     ]
    }
   ],
   "source": [
    "print(\"Pre define function\")\n",
    "# input(\"abc\")\n",
    "print(type('aa'))\n",
    "print(id('aa'))\n",
    "print(sorted(\"adb\"))\n",
    "print(sum([1,8]))"
   ]
  },
  {
   "cell_type": "markdown",
   "metadata": {},
   "source": [
    "# User Define Functions"
   ]
  },
  {
   "cell_type": "code",
   "execution_count": 3,
   "metadata": {},
   "outputs": [
    {
     "name": "stdout",
     "output_type": "stream",
     "text": [
      "Pakistan zinda bad\n",
      "We are pakistani\n",
      "We love our country!\n",
      "Pakistan zinda bad\n",
      "We are pakistani\n",
      "We love our country!\n",
      "Pakistan zinda bad\n",
      "We are pakistani\n",
      "We love our country!\n"
     ]
    }
   ],
   "source": [
    "print(\"Pakistan zinda bad\")\n",
    "print(\"We are pakistani\")\n",
    "print(\"We love our country!\")\n",
    "\n",
    "print(\"Pakistan zinda bad\")\n",
    "print(\"We are pakistani\")\n",
    "print(\"We love our country!\")\n",
    "\n",
    "print(\"Pakistan zinda bad\")\n",
    "print(\"We are pakistani\")\n",
    "print(\"We love our country!\")"
   ]
  },
  {
   "cell_type": "markdown",
   "metadata": {},
   "source": [
    "# Defualt Function"
   ]
  },
  {
   "cell_type": "code",
   "execution_count": 5,
   "metadata": {},
   "outputs": [
    {
     "name": "stdout",
     "output_type": "stream",
     "text": [
      "Pakistan zinda bad\n",
      "We are ABC\n",
      "We love our country!\n",
      "Pakistan zinda bad\n",
      "We are ABC\n",
      "We love our country!\n",
      "Pakistan zinda bad\n",
      "We are ABC\n",
      "We love our country!\n",
      "Pakistan zinda bad\n",
      "We are ABC\n",
      "We love our country!\n",
      "Pakistan zinda bad\n",
      "We are ABC\n",
      "We love our country!\n"
     ]
    }
   ],
   "source": [
    "def abc(): # Function Dec\n",
    "    print(\"Pakistan zinda bad\") #Body Start statment1\n",
    "    print(\"We are ABC\")# Statment2\n",
    "    print(\"We love our country!\")#Body End Statment3\n",
    "\n",
    " \n",
    "abc()\n",
    "abc()\n",
    "abc()\n",
    "abc()\n",
    "abc()\n"
   ]
  },
  {
   "cell_type": "markdown",
   "metadata": {},
   "source": [
    "# Required Arguments"
   ]
  },
  {
   "cell_type": "code",
   "execution_count": 7,
   "metadata": {},
   "outputs": [
    {
     "name": "stdout",
     "output_type": "stream",
     "text": [
      "\n",
      "    PIAIC Islamabad\n",
      "    Student id: 1\n",
      "    Name: Qasim\n",
      "    Father's Name: Aslam\n",
      "    course: A.I\n",
      "    Timing: 12:15 to 03:15\n",
      "    \n",
      "\n",
      "    PIAIC Islamabad\n",
      "    Student id: 2\n",
      "    Name: Qasim1\n",
      "    Father's Name: Aslam\n",
      "    course: A.I\n",
      "    Timing: 12:15 to 03:15\n",
      "    \n",
      "\n",
      "    PIAIC Islamabad\n",
      "    Student id: 3\n",
      "    Name: Qasim2\n",
      "    Father's Name: Aslam\n",
      "    course: A.I\n",
      "    Timing: 12:15 to 03:15\n",
      "    \n"
     ]
    }
   ],
   "source": [
    "def id_card(sid, sname, fname, course, timing):\n",
    "    print(f\"\"\"\n",
    "    PIAIC Islamabad\n",
    "    Student id: {sid}\n",
    "    Name: {sname}\n",
    "    Father's Name: {fname}\n",
    "    course: {course}\n",
    "    Timing: {timing}\n",
    "    \"\"\")\n",
    "\n",
    "\n",
    "id_card(1,\"Qasim\",\"Aslam\",\"A.I\",\"12:15 to 03:15\")    \n",
    "id_card(2,\"Qasim1\",\"Aslam\",\"A.I\",\"12:15 to 03:15\")\n",
    "id_card(3,\"Qasim2\",\"Aslam\",\"A.I\",\"12:15 to 03:15\")"
   ]
  },
  {
   "cell_type": "code",
   "execution_count": 8,
   "metadata": {},
   "outputs": [
    {
     "ename": "TypeError",
     "evalue": "id_card() missing 1 required positional argument: 'timing'",
     "output_type": "error",
     "traceback": [
      "\u001b[0;31m---------------------------------------------------------------------------\u001b[0m",
      "\u001b[0;31mTypeError\u001b[0m                                 Traceback (most recent call last)",
      "\u001b[0;32m<ipython-input-8-cf61a08a52af>\u001b[0m in \u001b[0;36m<module>\u001b[0;34m\u001b[0m\n\u001b[0;32m----> 1\u001b[0;31m \u001b[0mid_card\u001b[0m\u001b[0;34m(\u001b[0m\u001b[0;36m3\u001b[0m\u001b[0;34m,\u001b[0m\u001b[0;34m\"Qasim2\"\u001b[0m\u001b[0;34m,\u001b[0m\u001b[0;34m\"Aslam\"\u001b[0m\u001b[0;34m,\u001b[0m\u001b[0;34m\"A.I\"\u001b[0m\u001b[0;34m)\u001b[0m\u001b[0;34m\u001b[0m\u001b[0;34m\u001b[0m\u001b[0m\n\u001b[0m",
      "\u001b[0;31mTypeError\u001b[0m: id_card() missing 1 required positional argument: 'timing'"
     ]
    }
   ],
   "source": [
    "id_card(3,\"Qasim2\",\"Aslam\",\"A.I\")"
   ]
  },
  {
   "cell_type": "markdown",
   "metadata": {},
   "source": [
    "# Optional Arguments"
   ]
  },
  {
   "cell_type": "code",
   "execution_count": 9,
   "metadata": {},
   "outputs": [
    {
     "name": "stdout",
     "output_type": "stream",
     "text": [
      "5 0 0\n",
      "5\n"
     ]
    }
   ],
   "source": [
    "def pls(x, y = 0, z=0):\n",
    "    print(x,y,z)\n",
    "    print(x+y+z)\n",
    "    \n",
    "pls(5)"
   ]
  },
  {
   "cell_type": "code",
   "execution_count": 10,
   "metadata": {},
   "outputs": [
    {
     "name": "stdout",
     "output_type": "stream",
     "text": [
      "6 7 0\n",
      "13\n",
      "8 5 9\n",
      "22\n"
     ]
    },
    {
     "ename": "TypeError",
     "evalue": "pls() missing 1 required positional argument: 'x'",
     "output_type": "error",
     "traceback": [
      "\u001b[0;31m---------------------------------------------------------------------------\u001b[0m",
      "\u001b[0;31mTypeError\u001b[0m                                 Traceback (most recent call last)",
      "\u001b[0;32m<ipython-input-10-b7fe04b3fbd8>\u001b[0m in \u001b[0;36m<module>\u001b[0;34m\u001b[0m\n\u001b[1;32m      1\u001b[0m \u001b[0mpls\u001b[0m\u001b[0;34m(\u001b[0m\u001b[0;36m6\u001b[0m\u001b[0;34m,\u001b[0m\u001b[0;36m7\u001b[0m\u001b[0;34m)\u001b[0m\u001b[0;34m\u001b[0m\u001b[0;34m\u001b[0m\u001b[0m\n\u001b[1;32m      2\u001b[0m \u001b[0mpls\u001b[0m\u001b[0;34m(\u001b[0m\u001b[0;36m8\u001b[0m\u001b[0;34m,\u001b[0m\u001b[0;36m5\u001b[0m\u001b[0;34m,\u001b[0m\u001b[0;36m9\u001b[0m\u001b[0;34m)\u001b[0m\u001b[0;34m\u001b[0m\u001b[0;34m\u001b[0m\u001b[0m\n\u001b[0;32m----> 3\u001b[0;31m \u001b[0mpls\u001b[0m\u001b[0;34m(\u001b[0m\u001b[0;34m)\u001b[0m\u001b[0;34m\u001b[0m\u001b[0;34m\u001b[0m\u001b[0m\n\u001b[0m",
      "\u001b[0;31mTypeError\u001b[0m: pls() missing 1 required positional argument: 'x'"
     ]
    }
   ],
   "source": [
    "pls(6,7)\n",
    "pls(8,5,9)\n",
    "pls()\n"
   ]
  },
  {
   "cell_type": "markdown",
   "metadata": {},
   "source": [
    "# Non Return Functions"
   ]
  },
  {
   "cell_type": "code",
   "execution_count": 11,
   "metadata": {},
   "outputs": [
    {
     "name": "stdout",
     "output_type": "stream",
     "text": [
      "pakistan\n",
      "None\n"
     ]
    }
   ],
   "source": [
    "a = print(\"pakistan\")\n",
    "print(a)"
   ]
  },
  {
   "cell_type": "code",
   "execution_count": 12,
   "metadata": {},
   "outputs": [
    {
     "name": "stdout",
     "output_type": "stream",
     "text": [
      "5 7 9\n",
      "21\n",
      "None\n"
     ]
    }
   ],
   "source": [
    "b = pls(5,7,9)\n",
    "print(b)"
   ]
  },
  {
   "cell_type": "markdown",
   "metadata": {},
   "source": [
    "# Return Functions"
   ]
  },
  {
   "cell_type": "code",
   "execution_count": 13,
   "metadata": {},
   "outputs": [
    {
     "name": "stdout",
     "output_type": "stream",
     "text": [
      "15 15\n"
     ]
    }
   ],
   "source": [
    "def pls(x=0, y=0, z=0):\n",
    "    return x+y+z\n",
    "\n",
    "a = pls(7,8)\n",
    "b = pls(8,4,3)\n",
    "\n",
    "print(a,b)"
   ]
  },
  {
   "cell_type": "code",
   "execution_count": 14,
   "metadata": {},
   "outputs": [
    {
     "name": "stdout",
     "output_type": "stream",
     "text": [
      "15 15\n"
     ]
    }
   ],
   "source": [
    "def pls(x=0, y=0, z=0):\n",
    "    return x+y+z # Alway return first return statment\n",
    "    return x*y*z\n",
    "    return x+y*z\n",
    "\n",
    "a = pls(7,8)\n",
    "b = pls(8,4,3)\n",
    "\n",
    "print(a,b)"
   ]
  },
  {
   "cell_type": "code",
   "execution_count": 16,
   "metadata": {},
   "outputs": [
    {
     "name": "stdout",
     "output_type": "stream",
     "text": [
      "(15, 0, 7)\n"
     ]
    }
   ],
   "source": [
    "def pls(x=0, y=0, z=0):\n",
    "    return x+y+z , x*y*z , x+y*z\n",
    "\n",
    "a = pls(7,8)\n",
    "\n",
    "\n",
    "print(a)"
   ]
  },
  {
   "cell_type": "markdown",
   "metadata": {},
   "source": [
    "# Keyword Arguments"
   ]
  },
  {
   "cell_type": "code",
   "execution_count": 17,
   "metadata": {},
   "outputs": [
    {
     "name": "stdout",
     "output_type": "stream",
     "text": [
      "\n",
      "    PIAIC Islamabad\n",
      "    Student id: 11\n",
      "    Name: A.I\n",
      "    Father's Name: 3 to 6\n",
      "    course: Aslam\n",
      "    Timing: Qasim\n",
      "    \n"
     ]
    }
   ],
   "source": [
    "def id_card(sid, sname, fname, course, timing):\n",
    "    print(f\"\"\"\n",
    "    PIAIC Islamabad\n",
    "    Student id: {sid}\n",
    "    Name: {sname}\n",
    "    Father's Name: {fname}\n",
    "    course: {course}\n",
    "    Timing: {timing}\n",
    "    \"\"\")\n",
    "\n",
    "id_card(11,\"A.I\",\"3 to 6\",\"Aslam\",'Qasim')"
   ]
  },
  {
   "cell_type": "code",
   "execution_count": 18,
   "metadata": {},
   "outputs": [
    {
     "name": "stdout",
     "output_type": "stream",
     "text": [
      "\n",
      "    PIAIC Islamabad\n",
      "    Student id: 11\n",
      "    Name: Qasim\n",
      "    Father's Name: Aslam\n",
      "    course: A.I\n",
      "    Timing: 3 to 6\n",
      "    \n"
     ]
    }
   ],
   "source": [
    "def id_card(sid, sname, fname, course, timing):\n",
    "    print(f\"\"\"\n",
    "    PIAIC Islamabad\n",
    "    Student id: {sid}\n",
    "    Name: {sname}\n",
    "    Father's Name: {fname}\n",
    "    course: {course}\n",
    "    Timing: {timing}\n",
    "    \"\"\")\n",
    "\n",
    "id_card(sid=11,course=\"A.I\",timing=\"3 to 6\",fname=\"Aslam\",sname='Qasim')"
   ]
  },
  {
   "cell_type": "code",
   "execution_count": 19,
   "metadata": {},
   "outputs": [
    {
     "name": "stdout",
     "output_type": "stream",
     "text": [
      "\n",
      "    PIAIC Islamabad\n",
      "    Student id: 11\n",
      "    Name: Qasim\n",
      "    Father's Name: Aslam\n",
      "    course: A.I\n",
      "    Timing: 3 to 6\n",
      "    \n"
     ]
    }
   ],
   "source": [
    "def id_card(sid, sname, fname, course, timing):\n",
    "    print(f\"\"\"\n",
    "    PIAIC Islamabad\n",
    "    Student id: {sid}\n",
    "    Name: {sname}\n",
    "    Father's Name: {fname}\n",
    "    course: {course}\n",
    "    Timing: {timing}\n",
    "    \"\"\")\n",
    "\n",
    "id_card(11,\"Qasim\",course=\"A.I\",timing=\"3 to 6\",fname=\"Aslam\")"
   ]
  },
  {
   "cell_type": "code",
   "execution_count": 20,
   "metadata": {},
   "outputs": [
    {
     "ename": "SyntaxError",
     "evalue": "positional argument follows keyword argument (<ipython-input-20-8662b3ea6b81>, line 11)",
     "output_type": "error",
     "traceback": [
      "\u001b[0;36m  File \u001b[0;32m\"<ipython-input-20-8662b3ea6b81>\"\u001b[0;36m, line \u001b[0;32m11\u001b[0m\n\u001b[0;31m    id_card(11,\"Qasim\",course=\"A.I\",fname=\"Aslam\",\"3 to 6\")\u001b[0m\n\u001b[0m                                                 ^\u001b[0m\n\u001b[0;31mSyntaxError\u001b[0m\u001b[0;31m:\u001b[0m positional argument follows keyword argument\n"
     ]
    }
   ],
   "source": [
    "def id_card(sid, sname, fname, course, timing):\n",
    "    print(f\"\"\"\n",
    "    PIAIC Islamabad\n",
    "    Student id: {sid}\n",
    "    Name: {sname}\n",
    "    Father's Name: {fname}\n",
    "    course: {course}\n",
    "    Timing: {timing}\n",
    "    \"\"\")\n",
    "\n",
    "id_card(11,\"Qasim\",course=\"A.I\",fname=\"Aslam\",\"3 to 6\")"
   ]
  },
  {
   "cell_type": "markdown",
   "metadata": {},
   "source": [
    "# Pass Argument by List"
   ]
  },
  {
   "cell_type": "code",
   "execution_count": 25,
   "metadata": {},
   "outputs": [
    {
     "name": "stdout",
     "output_type": "stream",
     "text": [
      "\n",
      "    PIAIC Islamabad\n",
      "    Student id: 81\n",
      "    Name: A1\n",
      "    Father's Name: B1\n",
      "    course: C1\n",
      "    Timing: D1\n",
      "    \n",
      "8 A B C D\n"
     ]
    }
   ],
   "source": [
    "def id_card(sid, sname, fname, course, timing):\n",
    "    print(f\"\"\"\n",
    "    PIAIC Islamabad\n",
    "    Student id: {sid}\n",
    "    Name: {sname}\n",
    "    Father's Name: {fname}\n",
    "    course: {course}\n",
    "    Timing: {timing}\n",
    "    \"\"\")\n",
    "    \n",
    "    \n",
    "l1 = [8,\"A\",\"B\",\"C\",\"D\"]    \n",
    "l2 = [81,\"A1\",\"B1\",\"C1\",\"D1\"] \n",
    "\n",
    "#id_card(l1[0], l1[1], l1[2], l1[3], l1[4])\n",
    "id_card(*l2)\n",
    "print(*l1)"
   ]
  },
  {
   "cell_type": "markdown",
   "metadata": {},
   "source": [
    "# Pass Arguments by Dictionary"
   ]
  },
  {
   "cell_type": "code",
   "execution_count": 27,
   "metadata": {},
   "outputs": [
    {
     "name": "stdout",
     "output_type": "stream",
     "text": [
      "\n",
      "    PIAIC Islamabad\n",
      "    Student id: 200\n",
      "    Name: Qasim\n",
      "    Father's Name: Aslam\n",
      "    course: A.I\n",
      "    Timing: 12:30 to 03:30\n",
      "    \n"
     ]
    }
   ],
   "source": [
    "def id_card(sid, sname, fname, course, timing):\n",
    "    print(f\"\"\"\n",
    "    PIAIC Islamabad\n",
    "    Student id: {sid}\n",
    "    Name: {sname}\n",
    "    Father's Name: {fname}\n",
    "    course: {course}\n",
    "    Timing: {timing}\n",
    "    \"\"\")\n",
    "    \n",
    "    \n",
    "d1 = {\n",
    "    'course': 'A.I',\n",
    "    \"timing\":'12:30 to 03:30',\n",
    "    'sname': 'Qasim',\n",
    "    'fname':'Aslam',\n",
    "    'sid':200\n",
    "}   \n",
    "\n",
    "#id_card(sid=11,sname=\"Qasim\",course=\"A.I\",timing=\"3 to 6\",fname=\"Aslam\")\n",
    "id_card(**d1)\n"
   ]
  },
  {
   "cell_type": "markdown",
   "metadata": {},
   "source": [
    "# Optional Parameters with List"
   ]
  },
  {
   "cell_type": "code",
   "execution_count": 30,
   "metadata": {},
   "outputs": [
    {
     "name": "stdout",
     "output_type": "stream",
     "text": [
      "Qasim\n",
      "(5, 8, 9, 0)\n",
      "22\n"
     ]
    }
   ],
   "source": [
    "def abc(name, *number):\n",
    "    print(name)\n",
    "    print(number)\n",
    "    print(sum(number))\n",
    "    \n",
    "abc(\"Qasim\", 5,8,9,0)\n"
   ]
  },
  {
   "cell_type": "code",
   "execution_count": 32,
   "metadata": {},
   "outputs": [
    {
     "name": "stdout",
     "output_type": "stream",
     "text": [
      "Qasim\n",
      "(5, 8, 9, 9)\n",
      "31\n"
     ]
    }
   ],
   "source": [
    "def abc(*number, name):\n",
    "    print(name)\n",
    "    print(number)\n",
    "    print(sum(number))\n",
    "    \n",
    "abc(5,8,9,9, name=\"Qasim\")"
   ]
  },
  {
   "cell_type": "markdown",
   "metadata": {},
   "source": [
    "# Optional Parameters with Dictionary"
   ]
  },
  {
   "cell_type": "code",
   "execution_count": 34,
   "metadata": {},
   "outputs": [
    {
     "name": "stdout",
     "output_type": "stream",
     "text": [
      "qasim\n",
      "{'a': 'aa', 'b': 'bb', 'c': 'cc'}\n",
      "Pakistan\n"
     ]
    }
   ],
   "source": [
    "def abc(name, **kv):\n",
    "    print(name)\n",
    "    print(kv)\n",
    "    if 'b' in kv.keys():\n",
    "        print(\"Pakistan\")\n",
    "    \n",
    "abc('qasim', a='aa', b='bb',c='cc')    "
   ]
  },
  {
   "cell_type": "code",
   "execution_count": null,
   "metadata": {},
   "outputs": [],
   "source": [
    "abc()"
   ]
  },
  {
   "cell_type": "code",
   "execution_count": 37,
   "metadata": {},
   "outputs": [
    {
     "ename": "SyntaxError",
     "evalue": "invalid syntax (<ipython-input-37-1aea56bc2411>, line 1)",
     "output_type": "error",
     "traceback": [
      "\u001b[0;36m  File \u001b[0;32m\"<ipython-input-37-1aea56bc2411>\"\u001b[0;36m, line \u001b[0;32m1\u001b[0m\n\u001b[0;31m    def abc(**kv, name):\u001b[0m\n\u001b[0m                     ^\u001b[0m\n\u001b[0;31mSyntaxError\u001b[0m\u001b[0;31m:\u001b[0m invalid syntax\n"
     ]
    }
   ],
   "source": [
    "def abc(**kv, name):\n",
    "    print(name)\n",
    "    print(kv)\n",
    "    if 'b' in kv.keys():\n",
    "        print(\"Pakistan\")\n",
    "    \n",
    "abc( a='aa', b='bb',c='cc', name='qasim')"
   ]
  },
  {
   "cell_type": "markdown",
   "metadata": {},
   "source": [
    "# Recursive Function"
   ]
  },
  {
   "cell_type": "code",
   "execution_count": 38,
   "metadata": {},
   "outputs": [
    {
     "data": {
      "text/plain": [
       "120"
      ]
     },
     "execution_count": 38,
     "metadata": {},
     "output_type": "execute_result"
    }
   ],
   "source": [
    "def xyz(n):\n",
    "    if n==1:\n",
    "        return 1\n",
    "    \n",
    "    return n * xyz(n-1)\n",
    "\n",
    "\n",
    "\n",
    "xyz(5)\n",
    "\n",
    "#1*2*3*4*5=120"
   ]
  },
  {
   "cell_type": "markdown",
   "metadata": {},
   "source": [
    "# Generator Functions"
   ]
  },
  {
   "cell_type": "code",
   "execution_count": 44,
   "metadata": {},
   "outputs": [
    {
     "name": "stdout",
     "output_type": "stream",
     "text": [
      "<generator object my_range at 0x7fcb375af6d8>\n",
      "1\n",
      "2\n",
      "3\n",
      "4\n",
      "5\n"
     ]
    },
    {
     "data": {
      "text/plain": [
       "[6, 7, 8, 9, 10]"
      ]
     },
     "execution_count": 44,
     "metadata": {},
     "output_type": "execute_result"
    }
   ],
   "source": [
    "def my_range(n):\n",
    "    for i in range(1,n+1):\n",
    "        yield i\n",
    "        \n",
    "        \n",
    "a = my_range(10)        \n",
    "print(a)\n",
    "print(next(a))\n",
    "print(next(a))\n",
    "print(next(a))\n",
    "print(next(a))\n",
    "print(next(a))\n",
    "\n",
    "list(a)"
   ]
  },
  {
   "cell_type": "code",
   "execution_count": 53,
   "metadata": {},
   "outputs": [
    {
     "name": "stdout",
     "output_type": "stream",
     "text": [
      "105\n",
      "210\n"
     ]
    }
   ],
   "source": [
    "def my_range(n):\n",
    "    for i in range(1,n+1):\n",
    "        if (i%5==0 and i%7==0 and i%15==0):\n",
    "            yield i\n",
    "        \n",
    "        \n",
    "a = my_range(1500)        \n",
    "\n",
    "print(next(a))\n",
    "print(next(a))"
   ]
  },
  {
   "cell_type": "markdown",
   "metadata": {},
   "source": [
    "# Lambda Functions"
   ]
  },
  {
   "cell_type": "code",
   "execution_count": 54,
   "metadata": {},
   "outputs": [
    {
     "data": {
      "text/plain": [
       "11"
      ]
     },
     "execution_count": 54,
     "metadata": {},
     "output_type": "execute_result"
    }
   ],
   "source": [
    "def abc(x,y): return x+y\n",
    "\n",
    "abc(5,6)"
   ]
  },
  {
   "cell_type": "code",
   "execution_count": 55,
   "metadata": {},
   "outputs": [
    {
     "data": {
      "text/plain": [
       "20"
      ]
     },
     "execution_count": 55,
     "metadata": {},
     "output_type": "execute_result"
    }
   ],
   "source": [
    "abc = lambda x,y,z: x+y+z\n",
    "\n",
    "abc(5,6,9)"
   ]
  },
  {
   "cell_type": "raw",
   "metadata": {},
   "source": [
    "5,3\n",
    "5\n",
    "\n",
    "3,6\n",
    "6"
   ]
  },
  {
   "cell_type": "code",
   "execution_count": null,
   "metadata": {},
   "outputs": [],
   "source": []
  }
 ],
 "metadata": {
  "kernelspec": {
   "display_name": "Python 3",
   "language": "python",
   "name": "python3"
  },
  "language_info": {
   "codemirror_mode": {
    "name": "ipython",
    "version": 3
   },
   "file_extension": ".py",
   "mimetype": "text/x-python",
   "name": "python",
   "nbconvert_exporter": "python",
   "pygments_lexer": "ipython3",
   "version": "3.7.1"
  }
 },
 "nbformat": 4,
 "nbformat_minor": 2
}
